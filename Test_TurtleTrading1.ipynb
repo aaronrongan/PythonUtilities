{
 "cells": [
  {
   "cell_type": "code",
   "execution_count": 1,
   "outputs": [],
   "source": [
    "#选自[21].\thttps://zhuanlan.zhihu.com/p/73832870\n",
    "# 手把手教你】用Python量化海龟交易法则 - CuteHand的文章 - 知乎"
   ],
   "metadata": {
    "collapsed": false,
    "pycharm": {
     "name": "#%%\n",
     "is_executing": false
    }
   }
  },
  {
   "cell_type": "code",
   "execution_count": 2,
   "outputs": [],
   "source": [
    "import pandas as pd\n",
    "import numpy as np\n",
    "import talib as ta\n",
    "\n",
    "from datetime import datetime,timedelta\n",
    "#对K线图和唐奇安通道进行可视化\n",
    "import matplotlib.pyplot as plt\n",
    "from pyecharts import * #注意版本，原来的代码似乎是0.5x版的"
   ],
   "metadata": {
    "collapsed": false,
    "pycharm": {
     "name": "#%%\n",
     "is_executing": false
    }
   }
  },
  {
   "cell_type": "code",
   "execution_count": 3,
   "outputs": [],
   "source": [
    "#先引入后面可能用到的包（package）\n",
    "\n",
    "from datetime import datetime,timedelta\n",
    "import matplotlib.pyplot as plt\n",
    "%matplotlib inline   \n",
    "#正常显示画图时出现的中文和负号\n",
    "from pylab import mpl\n",
    "mpl.rcParams['font.sans-serif']=['SimHei']\n",
    "mpl.rcParams['axes.unicode_minus']=False"
   ],
   "metadata": {
    "collapsed": false,
    "pycharm": {
     "name": "#%%\n",
     "is_executing": false
    }
   }
  },
  {
   "cell_type": "code",
   "execution_count": 4,
   "outputs": [],
   "source": [
    "import tushare as ts\n",
    "from pylab import mpl\n",
    "\n",
    "import tushare as ts \n",
    "#注意token更换为你在tushare网站上获取的\n",
    "token='f20927201ecc20e3cea9279abacfbb1d39a9624820d9b2f94613f722'\n",
    "pro=ts.pro_api(token)\n",
    "index={'上证综指': '000001.SH',\n",
    "        '深证成指': '399001.SZ',\n",
    "        '沪深300': '000300.SH',\n",
    "        '创业板指': '399006.SZ',\n",
    "        '上证50': '000016.SH',\n",
    "        '中证500': '000905.SH',\n",
    "        '中小板指': '399005.SZ',\n",
    "        '上证180': '000010.SH'}"
   ],
   "metadata": {
    "collapsed": false,
    "pycharm": {
     "name": "#%%\n",
     "is_executing": false
    }
   }
  },
  {
   "cell_type": "code",
   "execution_count": 5,
   "outputs": [],
   "source": [
    "#获取当前交易的股票代码和名称\n",
    "def get_code():\n",
    "    df = pro.stock_basic(exchange='', list_status='L')\n",
    "    codes=df.ts_code.values\n",
    "    names=df.name.values\n",
    "    stock=dict(zip(names,codes))\n",
    "    #合并指数和个股成一个字典\n",
    "    stocks=dict(stock,**index)\n",
    "    return stocks    \n",
    "\n"
   ],
   "metadata": {
    "collapsed": false,
    "pycharm": {
     "name": "#%%\n",
     "is_executing": false
    }
   }
  },
  {
   "cell_type": "code",
   "execution_count": 6,
   "outputs": [],
   "source": [
    "#获取行情数据\n",
    "def get_daily_data(stock,start,end):\n",
    "    #如果代码在字典index里，则取的是指数数据\n",
    "    code=get_code()[stock]\n",
    "    if code in index.values():\n",
    "        df=pro.index_daily(ts_code=code,start_date=start, end_date=end)\n",
    "    #否则取的是个股数据\n",
    "    else:\n",
    "        df=pro.daily(ts_code=code, adj='qfq',start_date=start, end_date=end)\n",
    "    #将交易日期设置为索引值\n",
    "    df.index=pd.to_datetime(df.trade_date)\n",
    "    df=df.sort_index()\n",
    "    #计算收益率\n",
    "    df['ret']=df.close/df.close.shift(1)-1\n",
    "    return df\n"
   ],
   "metadata": {
    "collapsed": false,
    "pycharm": {
     "name": "#%%\n",
     "is_executing": false
    }
   }
  },
  {
   "cell_type": "code",
   "execution_count": 7,
   "outputs": [
    {
     "data": {
      "text/plain": "                close       open       high        low          vol  \\\ntrade_date                                                            \n2019-10-14  3953.2411  3944.8593  3983.8117  3934.7325  122393611.0   \n2019-10-15  3936.2498  3953.1645  3953.1645  3928.1510   85273949.0   \n2019-10-16  3922.6854  3939.2760  3964.0456  3919.0169   83229707.0   \n2019-10-17  3925.2216  3929.3860  3935.8123  3913.9173   64863745.0   \n2019-10-18  3869.3777  3935.4199  3940.5409  3864.9652   82321140.0   \n\n                   up       down        ATR  \ntrade_date                                   \n2019-10-14  3985.2390  3805.0671  44.624040  \n2019-10-15  3985.2390  3805.0671  43.647343  \n2019-10-16  3983.8117  3805.0671  43.716411  \n2019-10-17  3983.8117  3805.0671  42.625340  \n2019-10-18  3983.8117  3805.0671  44.272858  ",
      "text/html": "<div>\n<style scoped>\n    .dataframe tbody tr th:only-of-type {\n        vertical-align: middle;\n    }\n\n    .dataframe tbody tr th {\n        vertical-align: top;\n    }\n\n    .dataframe thead th {\n        text-align: right;\n    }\n</style>\n<table border=\"1\" class=\"dataframe\">\n  <thead>\n    <tr style=\"text-align: right;\">\n      <th></th>\n      <th>close</th>\n      <th>open</th>\n      <th>high</th>\n      <th>low</th>\n      <th>vol</th>\n      <th>up</th>\n      <th>down</th>\n      <th>ATR</th>\n    </tr>\n    <tr>\n      <th>trade_date</th>\n      <th></th>\n      <th></th>\n      <th></th>\n      <th></th>\n      <th></th>\n      <th></th>\n      <th></th>\n      <th></th>\n    </tr>\n  </thead>\n  <tbody>\n    <tr>\n      <td>2019-10-14</td>\n      <td>3953.2411</td>\n      <td>3944.8593</td>\n      <td>3983.8117</td>\n      <td>3934.7325</td>\n      <td>122393611.0</td>\n      <td>3985.2390</td>\n      <td>3805.0671</td>\n      <td>44.624040</td>\n    </tr>\n    <tr>\n      <td>2019-10-15</td>\n      <td>3936.2498</td>\n      <td>3953.1645</td>\n      <td>3953.1645</td>\n      <td>3928.1510</td>\n      <td>85273949.0</td>\n      <td>3985.2390</td>\n      <td>3805.0671</td>\n      <td>43.647343</td>\n    </tr>\n    <tr>\n      <td>2019-10-16</td>\n      <td>3922.6854</td>\n      <td>3939.2760</td>\n      <td>3964.0456</td>\n      <td>3919.0169</td>\n      <td>83229707.0</td>\n      <td>3983.8117</td>\n      <td>3805.0671</td>\n      <td>43.716411</td>\n    </tr>\n    <tr>\n      <td>2019-10-17</td>\n      <td>3925.2216</td>\n      <td>3929.3860</td>\n      <td>3935.8123</td>\n      <td>3913.9173</td>\n      <td>64863745.0</td>\n      <td>3983.8117</td>\n      <td>3805.0671</td>\n      <td>42.625340</td>\n    </tr>\n    <tr>\n      <td>2019-10-18</td>\n      <td>3869.3777</td>\n      <td>3935.4199</td>\n      <td>3940.5409</td>\n      <td>3864.9652</td>\n      <td>82321140.0</td>\n      <td>3983.8117</td>\n      <td>3805.0671</td>\n      <td>44.272858</td>\n    </tr>\n  </tbody>\n</table>\n</div>"
     },
     "metadata": {},
     "output_type": "execute_result",
     "execution_count": 7
    }
   ],
   "source": [
    "hs=get_daily_data('沪深300','20190901','')[['close','open','high','low','vol']]\n",
    "#最近N1个交易日最高价\n",
    "hs['up']=ta.MAX(hs.high,timeperiod=20).shift(1)\n",
    "#最近N2个交易日最低价\n",
    "hs['down']=ta.MIN(hs.low,timeperiod=10).shift(1)\n",
    "#每日真实波动幅度\n",
    "hs['ATR']=ta.ATR(hs.high,hs.low,hs.close,timeperiod=20)\n",
    "hs.tail()\n"
   ],
   "metadata": {
    "collapsed": false,
    "pycharm": {
     "name": "#%%\n",
     "is_executing": false
    }
   }
  },
  {
   "cell_type": "code",
   "execution_count": 8,
   "outputs": [
    {
     "traceback": [
      "\u001b[1;31m---------------------------------------------------------------------------\u001b[0m",
      "\u001b[1;31mAttributeError\u001b[0m                            Traceback (most recent call last)",
      "\u001b[1;32m<ipython-input-8-7d1a94b0d00f>\u001b[0m in \u001b[0;36m<module>\u001b[1;34m\u001b[0m\n\u001b[0;32m     24\u001b[0m \u001b[0mv3\u001b[0m\u001b[1;33m=\u001b[0m\u001b[0mnp\u001b[0m\u001b[1;33m.\u001b[0m\u001b[0marray\u001b[0m\u001b[1;33m(\u001b[0m\u001b[0mhs\u001b[0m\u001b[1;33m.\u001b[0m\u001b[0mdown\u001b[0m\u001b[1;33m)\u001b[0m\u001b[1;33m\u001b[0m\u001b[1;33m\u001b[0m\u001b[0m\n\u001b[0;32m     25\u001b[0m \u001b[1;31m# kline = Kline(\"沪深300唐奇安通道\",title_text_size=15)\u001b[0m\u001b[1;33m\u001b[0m\u001b[1;33m\u001b[0m\u001b[1;33m\u001b[0m\u001b[0m\n\u001b[1;32m---> 26\u001b[1;33m \u001b[0mkline\u001b[0m \u001b[1;33m=\u001b[0m \u001b[0mKline\u001b[0m\u001b[1;33m(\u001b[0m\u001b[1;34m\"沪深300唐奇安通道\"\u001b[0m\u001b[1;33m)\u001b[0m\u001b[1;33m\u001b[0m\u001b[1;33m\u001b[0m\u001b[0m\n\u001b[0m\u001b[0;32m     27\u001b[0m \u001b[0mkline\u001b[0m \u001b[1;33m=\u001b[0m \u001b[0mKline\u001b[0m\u001b[1;33m(\u001b[0m\u001b[1;33m)\u001b[0m\u001b[1;33m\u001b[0m\u001b[1;33m\u001b[0m\u001b[0m\n\u001b[0;32m     28\u001b[0m \u001b[0mkline\u001b[0m\u001b[1;33m.\u001b[0m\u001b[0madd\u001b[0m\u001b[1;33m(\u001b[0m\u001b[1;34m\"K线图\"\u001b[0m\u001b[1;33m,\u001b[0m \u001b[0mattr\u001b[0m\u001b[1;33m,\u001b[0m \u001b[0mv1\u001b[0m\u001b[1;33m.\u001b[0m\u001b[0mround\u001b[0m\u001b[1;33m(\u001b[0m\u001b[1;36m1\u001b[0m\u001b[1;33m)\u001b[0m\u001b[1;33m,\u001b[0m\u001b[0mis_datazoom_show\u001b[0m\u001b[1;33m=\u001b[0m\u001b[1;32mTrue\u001b[0m\u001b[1;33m,\u001b[0m\u001b[1;33m)\u001b[0m\u001b[1;33m\u001b[0m\u001b[1;33m\u001b[0m\u001b[0m\n",
      "\u001b[1;32m~\\AppData\\Roaming\\Python\\Python37\\site-packages\\pyecharts\\charts\\basic_charts\\kline.py\u001b[0m in \u001b[0;36m__init__\u001b[1;34m(self, init_opts)\u001b[0m\n\u001b[0;32m     14\u001b[0m \u001b[1;33m\u001b[0m\u001b[0m\n\u001b[0;32m     15\u001b[0m     \u001b[1;32mdef\u001b[0m \u001b[0m__init__\u001b[0m\u001b[1;33m(\u001b[0m\u001b[0mself\u001b[0m\u001b[1;33m,\u001b[0m \u001b[0minit_opts\u001b[0m\u001b[1;33m:\u001b[0m \u001b[0mopts\u001b[0m\u001b[1;33m.\u001b[0m\u001b[0mInitOpts\u001b[0m \u001b[1;33m=\u001b[0m \u001b[0mopts\u001b[0m\u001b[1;33m.\u001b[0m\u001b[0mInitOpts\u001b[0m\u001b[1;33m(\u001b[0m\u001b[1;33m)\u001b[0m\u001b[1;33m)\u001b[0m\u001b[1;33m:\u001b[0m\u001b[1;33m\u001b[0m\u001b[1;33m\u001b[0m\u001b[0m\n\u001b[1;32m---> 16\u001b[1;33m         \u001b[0msuper\u001b[0m\u001b[1;33m(\u001b[0m\u001b[1;33m)\u001b[0m\u001b[1;33m.\u001b[0m\u001b[0m__init__\u001b[0m\u001b[1;33m(\u001b[0m\u001b[0minit_opts\u001b[0m\u001b[1;33m=\u001b[0m\u001b[0minit_opts\u001b[0m\u001b[1;33m)\u001b[0m\u001b[1;33m\u001b[0m\u001b[1;33m\u001b[0m\u001b[0m\n\u001b[0m\u001b[0;32m     17\u001b[0m         \u001b[0mself\u001b[0m\u001b[1;33m.\u001b[0m\u001b[0moptions\u001b[0m\u001b[1;33m.\u001b[0m\u001b[0mupdate\u001b[0m\u001b[1;33m(\u001b[0m\u001b[0myAxis\u001b[0m\u001b[1;33m=\u001b[0m\u001b[1;33m[\u001b[0m\u001b[0mopts\u001b[0m\u001b[1;33m.\u001b[0m\u001b[0mAxisOpts\u001b[0m\u001b[1;33m(\u001b[0m\u001b[1;33m)\u001b[0m\u001b[1;33m.\u001b[0m\u001b[0mopts\u001b[0m\u001b[1;33m]\u001b[0m\u001b[1;33m)\u001b[0m\u001b[1;33m\u001b[0m\u001b[1;33m\u001b[0m\u001b[0m\n\u001b[0;32m     18\u001b[0m         self.set_global_opts(\n",
      "\u001b[1;32m~\\AppData\\Roaming\\Python\\Python37\\site-packages\\pyecharts\\charts\\chart.py\u001b[0m in \u001b[0;36m__init__\u001b[1;34m(self, init_opts)\u001b[0m\n\u001b[0;32m     12\u001b[0m \u001b[1;33m\u001b[0m\u001b[0m\n\u001b[0;32m     13\u001b[0m     \u001b[1;32mdef\u001b[0m \u001b[0m__init__\u001b[0m\u001b[1;33m(\u001b[0m\u001b[0mself\u001b[0m\u001b[1;33m,\u001b[0m \u001b[0minit_opts\u001b[0m\u001b[1;33m:\u001b[0m \u001b[0mUnion\u001b[0m\u001b[1;33m[\u001b[0m\u001b[0mopts\u001b[0m\u001b[1;33m.\u001b[0m\u001b[0mInitOpts\u001b[0m\u001b[1;33m,\u001b[0m \u001b[0mdict\u001b[0m\u001b[1;33m]\u001b[0m \u001b[1;33m=\u001b[0m \u001b[0mopts\u001b[0m\u001b[1;33m.\u001b[0m\u001b[0mInitOpts\u001b[0m\u001b[1;33m(\u001b[0m\u001b[1;33m)\u001b[0m\u001b[1;33m)\u001b[0m\u001b[1;33m:\u001b[0m\u001b[1;33m\u001b[0m\u001b[1;33m\u001b[0m\u001b[0m\n\u001b[1;32m---> 14\u001b[1;33m         \u001b[0msuper\u001b[0m\u001b[1;33m(\u001b[0m\u001b[1;33m)\u001b[0m\u001b[1;33m.\u001b[0m\u001b[0m__init__\u001b[0m\u001b[1;33m(\u001b[0m\u001b[0minit_opts\u001b[0m\u001b[1;33m=\u001b[0m\u001b[0minit_opts\u001b[0m\u001b[1;33m)\u001b[0m\u001b[1;33m\u001b[0m\u001b[1;33m\u001b[0m\u001b[0m\n\u001b[0m\u001b[0;32m     15\u001b[0m         self._colors = (\n\u001b[0;32m     16\u001b[0m             \u001b[1;34m\"#c23531 #2f4554 #61a0a8 #d48265 #749f83 #ca8622 #bda29a #6e7074 \"\u001b[0m\u001b[1;33m\u001b[0m\u001b[1;33m\u001b[0m\u001b[0m\n",
      "\u001b[1;32m~\\AppData\\Roaming\\Python\\Python37\\site-packages\\pyecharts\\charts\\base.py\u001b[0m in \u001b[0;36m__init__\u001b[1;34m(self, init_opts)\u001b[0m\n\u001b[0;32m     22\u001b[0m \u001b[1;33m\u001b[0m\u001b[0m\n\u001b[0;32m     23\u001b[0m     \u001b[1;32mdef\u001b[0m \u001b[0m__init__\u001b[0m\u001b[1;33m(\u001b[0m\u001b[0mself\u001b[0m\u001b[1;33m,\u001b[0m \u001b[0minit_opts\u001b[0m\u001b[1;33m:\u001b[0m \u001b[0mUnion\u001b[0m\u001b[1;33m[\u001b[0m\u001b[0mInitOpts\u001b[0m\u001b[1;33m,\u001b[0m \u001b[0mdict\u001b[0m\u001b[1;33m]\u001b[0m \u001b[1;33m=\u001b[0m \u001b[0mInitOpts\u001b[0m\u001b[1;33m(\u001b[0m\u001b[1;33m)\u001b[0m\u001b[1;33m)\u001b[0m\u001b[1;33m:\u001b[0m\u001b[1;33m\u001b[0m\u001b[1;33m\u001b[0m\u001b[0m\n\u001b[1;32m---> 24\u001b[1;33m         \u001b[0mself\u001b[0m\u001b[1;33m.\u001b[0m\u001b[0mwidth\u001b[0m \u001b[1;33m=\u001b[0m \u001b[0minit_opts\u001b[0m\u001b[1;33m.\u001b[0m\u001b[0mwidth\u001b[0m\u001b[1;33m\u001b[0m\u001b[1;33m\u001b[0m\u001b[0m\n\u001b[0m\u001b[0;32m     25\u001b[0m         \u001b[0mself\u001b[0m\u001b[1;33m.\u001b[0m\u001b[0mheight\u001b[0m \u001b[1;33m=\u001b[0m \u001b[0minit_opts\u001b[0m\u001b[1;33m.\u001b[0m\u001b[0mheight\u001b[0m\u001b[1;33m\u001b[0m\u001b[1;33m\u001b[0m\u001b[0m\n\u001b[0;32m     26\u001b[0m         \u001b[0mself\u001b[0m\u001b[1;33m.\u001b[0m\u001b[0mrenderer\u001b[0m \u001b[1;33m=\u001b[0m \u001b[0minit_opts\u001b[0m\u001b[1;33m.\u001b[0m\u001b[0mrenderer\u001b[0m\u001b[1;33m\u001b[0m\u001b[1;33m\u001b[0m\u001b[0m\n",
      "\u001b[1;31mAttributeError\u001b[0m: 'str' object has no attribute 'width'"
     ],
     "ename": "AttributeError",
     "evalue": "'str' object has no attribute 'width'",
     "output_type": "error"
    }
   ],
   "source": [
    "def my_strategy(data):\n",
    "    x1=data.close>data.up\n",
    "    x2=data.close.shift(1)<data.up.shift(1)\n",
    "    x=x1&x2\n",
    "    y1=data.close<data.down\n",
    "    y2=data.close.shift(1)>data.down.shift(1)\n",
    "    y=y1&y2\n",
    "    data.loc[x,'signal']='buy'\n",
    "    data.loc[y,'signal']='sell'\n",
    "    buy_date=(data[data.signal=='buy'].index).strftime('%Y%m%d')\n",
    "    sell_date=(data[data.signal=='sell'].index).strftime('%Y%m%d')\n",
    "    buy_close=data[data.signal=='buy'].close.round(2).tolist()\n",
    "    sell_close=data[data.signal=='sell'].close.round(2).tolist()\n",
    "    return (buy_date,buy_close,sell_date,sell_close)\n",
    "\n",
    "\n",
    "# import pyecharts.charts.RectChart \n",
    "from pyecharts.charts import  *\n",
    "\n",
    "grid = Grid()\n",
    "attr=[str(t) for t in hs.index.strftime('%Y%m%d')]\n",
    "v1=np.array(hs.loc[:,['open','close','low','high']])\n",
    "v2=np.array(hs.up)\n",
    "v3=np.array(hs.down)\n",
    "# kline = Kline(\"沪深300唐奇安通道\",title_text_size=15)\n",
    "kline = Kline(\"沪深300唐奇安通道\")\n",
    "kline = Kline()\n",
    "kline.add(\"K线图\", attr, v1.round(1),is_datazoom_show=True,)\n",
    "# 成交量\n",
    "bar = Bar()\n",
    "bar.add(\"成交量\", attr, hs['vol'],tooltip_tragger=\"axis\", is_legend_show=False, \n",
    "        is_yaxis_show=False, yaxis_max=5*max(hs[\"vol\"]))\n",
    "line = Line()\n",
    "line.add(\"上轨线\", attr, v2.round(1),is_datazoom_show=True,\n",
    "         is_smooth=True,is_symbol_show=False,line_width=1.5)\n",
    "line.add(\"下轨线\", attr, v3.round(1),is_datazoom_show=True,\n",
    "         is_smooth=True,is_symbol_show=False,line_width=1.5)\n",
    "#添加买卖信号\n",
    "bd,bc,sd,sc=my_strategy(hs)\n",
    "es = EffectScatter(\"buy\")\n",
    "es.add( \"sell\", sd, sc, )\n",
    "es.add(\"buy\", bd, bc,symbol=\"triangle\",)\n",
    "# overlap=Overlap()\n",
    "overlap = Overlap(width=2000, height=600)\n",
    "overlap.add(kline)\n",
    "overlap.add(line)\n",
    "overlap.add(bar,yaxis_index=1, is_add_yaxis=True)\n",
    "overlap.add(es)\n",
    "grid.add(overlap, grid_right=\"10%\")\n",
    "grid\n",
    "\n"
   ],
   "metadata": {
    "collapsed": false,
    "pycharm": {
     "name": "#%%\n",
     "is_executing": false
    }
   }
  }
 ],
 "metadata": {
  "language_info": {
   "codemirror_mode": {
    "name": "ipython",
    "version": 2
   },
   "file_extension": ".py",
   "mimetype": "text/x-python",
   "name": "python",
   "nbconvert_exporter": "python",
   "pygments_lexer": "ipython2",
   "version": "2.7.6"
  },
  "kernelspec": {
   "name": "python3",
   "language": "python",
   "display_name": "Python 3"
  },
  "pycharm": {
   "stem_cell": {
    "cell_type": "raw",
    "source": [],
    "metadata": {
     "collapsed": false
    }
   }
  }
 },
 "nbformat": 4,
 "nbformat_minor": 0
}
